{
 "cells": [
  {
   "cell_type": "code",
   "execution_count": null,
   "id": "f56702ad",
   "metadata": {},
   "outputs": [],
   "source": [
    "import cv2\n",
    "import os\n",
    "from datetime import datetime\n",
    "import time\n",
    "import shutil"
   ]
  },
  {
   "cell_type": "code",
   "execution_count": null,
   "id": "e9ff727a",
   "metadata": {
    "scrolled": true
   },
   "outputs": [],
   "source": [
    "name = input(\"Name: \")\n",
    "path = name + \"_images\"\n",
    "isExist = os.path.exists(path)\n",
    "if not isExist:\n",
    "    os.makedirs(path)\n",
    "    print(\"The new directory is created!\")\n",
    "cam = cv2.VideoCapture(0)\n",
    "cv2.namedWindow(\"Capture\")\n",
    "\n",
    "img_counter = 0\n",
    "\n",
    "while True:\n",
    "    ret, frame = cam.read()\n",
    "    if not ret:\n",
    "        print(\"failed to grab frame\")\n",
    "        break\n",
    "    cv2.imshow(\"Capture\", frame)\n",
    "\n",
    "    k = cv2.waitKey(1)\n",
    "    time.sleep(0.5)\n",
    "    t = datetime.now()\n",
    "    img_name = f\"{name}_IMG{t.strftime('%Y%m%d%H%M%S%f')}.jpg\"\n",
    "    cv2.imwrite(path+\"/\"+img_name, frame)\n",
    "    print(\"{} written!\".format(img_name))\n",
    "    img_counter += 1\n",
    "    print(f\"Count:{img_counter}\")\n",
    "    if img_counter >= 400:\n",
    "        break\n",
    "\n",
    "cam.release()\n",
    "\n",
    "cv2.destroyAllWindows()\n",
    "\n",
    "shutil.make_archive(path, 'zip', path)"
   ]
  }
 ],
 "metadata": {
  "kernelspec": {
   "display_name": "Python 3 (ipykernel)",
   "language": "python",
   "name": "python3"
  },
  "language_info": {
   "codemirror_mode": {
    "name": "ipython",
    "version": 3
   },
   "file_extension": ".py",
   "mimetype": "text/x-python",
   "name": "python",
   "nbconvert_exporter": "python",
   "pygments_lexer": "ipython3",
   "version": "3.9.12"
  }
 },
 "nbformat": 4,
 "nbformat_minor": 5
}
