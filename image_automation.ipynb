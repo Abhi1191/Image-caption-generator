{
 "cells": [
  {
   "cell_type": "code",
   "execution_count": 1,
   "metadata": {},
   "outputs": [],
   "source": [
    "import numpy as np\n",
    "from keras.preprocessing.image  import ImageDataGenerator\n",
    "from keras_preprocessing.image import array_to_img, img_to_array, load_img"
   ]
  },
  {
   "cell_type": "code",
   "execution_count": 2,
   "metadata": {},
   "outputs": [],
   "source": [
    "import cv2 as cv\n",
    "from cv2 import imshow, imwrite,waitKey,destroyWindow\n",
    "cam_port=0\n",
    "cam=cv.VideoCapture(cam_port)\n",
    "result, photo=cam.read()\n",
    "if result:\n",
    "    imshow(\"photo1\",photo)\n",
    "    imwrite(\"images//photo1.jpg\",photo)\n",
    "    waitKey(1)\n",
    "    destroyWindow(\"photo1\")\n",
    "else:\n",
    "    print(\"No image detected. Please! try again\")"
   ]
  },
  {
   "cell_type": "code",
   "execution_count": 4,
   "metadata": {},
   "outputs": [],
   "source": [
    "allimg=ImageDataGenerator(\n",
    "    rotation_range=40,\n",
    "    width_shift_range=0.2,\n",
    "    height_shift_range=0.2,\n",
    "    shear_range=0.2,\n",
    "    zoom_range=0.4,\n",
    "    horizontal_flip=True,\n",
    "    fill_mode='nearest'\n",
    ")\n",
    "img=load_img('images//photo1.jpg')\n",
    "x=img_to_array(img)\n",
    "x=x.reshape((1,)+x.shape)\n",
    "i=0\n",
    "for a in allimg.flow(x,batch_size=1,\n",
    "                      save_to_dir='images', save_prefix='cat', save_format='jpeg'):\n",
    "                      i=i+1\n",
    "                      if(i>20):\n",
    "                        break\n"
   ]
  },
  {
   "cell_type": "code",
   "execution_count": null,
   "metadata": {},
   "outputs": [],
   "source": []
  }
 ],
 "metadata": {
  "kernelspec": {
   "display_name": "Python 3.10.5 64-bit",
   "language": "python",
   "name": "python3"
  },
  "language_info": {
   "codemirror_mode": {
    "name": "ipython",
    "version": 3
   },
   "file_extension": ".py",
   "mimetype": "text/x-python",
   "name": "python",
   "nbconvert_exporter": "python",
   "pygments_lexer": "ipython3",
   "version": "3.10.5"
  },
  "orig_nbformat": 4,
  "vscode": {
   "interpreter": {
    "hash": "eb876a31ba3118c4f695b25ee29c66e5a9f0d55e670f9abe7e8269791a880492"
   }
  }
 },
 "nbformat": 4,
 "nbformat_minor": 2
}
